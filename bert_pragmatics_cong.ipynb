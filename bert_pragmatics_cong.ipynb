{
 "cells": [
  {
   "cell_type": "markdown",
   "metadata": {},
   "source": [
    "# Prep lib and dataset"
   ]
  },
  {
   "cell_type": "code",
   "execution_count": null,
   "metadata": {},
   "outputs": [],
   "source": [
    "# Author: Yan CONG\n",
    "# make sure this ipnb file is in the same folder as Fine_tuning_a_masked_language_model...ipynb\n",
    "import pandas as pd\n",
    "import csv\n",
    "import math\n",
    "import os\n",
    "import re"
   ]
  },
  {
   "cell_type": "code",
   "execution_count": null,
   "metadata": {},
   "outputs": [],
   "source": [
    "from transformers import pipeline"
   ]
  },
  {
   "cell_type": "code",
   "execution_count": null,
   "metadata": {},
   "outputs": [],
   "source": [
    "unmasker = pipeline('fill-mask', model='distilbert-base-uncased')\n",
    "unmasker(\"Hello I'm a [MASK] model.\")"
   ]
  },
  {
   "cell_type": "code",
   "execution_count": null,
   "metadata": {},
   "outputs": [],
   "source": [
    "unmasker(\"Hello I'm a [MASK] model.\")[0]['score']"
   ]
  },
  {
   "cell_type": "markdown",
   "metadata": {},
   "source": [
    "# Distill-BERT"
   ]
  },
  {
   "cell_type": "markdown",
   "metadata": {},
   "source": [
    "## quantifier"
   ]
  },
  {
   "cell_type": "markdown",
   "metadata": {},
   "source": [
    "### dataset"
   ]
  },
  {
   "cell_type": "code",
   "execution_count": null,
   "metadata": {},
   "outputs": [],
   "source": [
    "quantifier_df = pd.read_csv('data', index_col=0)\n",
    "quantifier_df.head()"
   ]
  },
  {
   "cell_type": "markdown",
   "metadata": {},
   "source": [
    "### playground"
   ]
  },
  {
   "cell_type": "code",
   "execution_count": null,
   "metadata": {},
   "outputs": [],
   "source": [
    "unmasker = pipeline('fill-mask', model='distilbert-base-uncased')\n",
    "unmasker(\"[MASK] people have lungs that are diseased by viruses.\")"
   ]
  },
  {
   "cell_type": "code",
   "execution_count": null,
   "metadata": {},
   "outputs": [],
   "source": [
    "unmasker = pipeline('fill-mask', model='distilbert-base-uncased')\n",
    "unmasker(\"Some people have [MASK] that are diseased by viruses.\")"
   ]
  },
  {
   "cell_type": "code",
   "execution_count": null,
   "metadata": {},
   "outputs": [],
   "source": [
    "unmasker = pipeline('fill-mask', model='distilbert-base-uncased')\n",
    "unmasker(\"[MASK] people have lungs which require good care.\")"
   ]
  },
  {
   "cell_type": "markdown",
   "metadata": {},
   "source": [
    "### dataset cw quantifier"
   ]
  },
  {
   "cell_type": "code",
   "execution_count": null,
   "metadata": {},
   "outputs": [],
   "source": [
    "new_qdf = pd.read_csv('data', index_col=0)\n",
    "new_qdf.head()"
   ]
  },
  {
   "cell_type": "code",
   "execution_count": null,
   "metadata": {},
   "outputs": [],
   "source": [
    "new_qdf['distillbert_cw_prob'] = ''\n",
    "new_qdf['distillbert_top1'] = ''\n",
    "new_qdf['distillbert_top1_prob'] = ''\n",
    "new_qdf['distillbert_cw_accuracy'] = 0\n",
    "\n",
    "unmasker = pipeline('fill-mask', model='distilbert-base-uncased')\n",
    "\n",
    "for i in new_qdf.index:\n",
    "    seq = \"[MASK] \" + new_qdf['post_cw'][i]\n",
    "    temp = unmasker(seq)\n",
    "    new_qdf['distillbert_top1'][i] = temp[0]['token_str']\n",
    "    new_qdf['distillbert_top1_prob'][i] = temp[0]['score']\n",
    "\n",
    "    for item in temp:\n",
    "        if item['token_str'] == new_qdf['cw'][i]:\n",
    "            new_qdf['distillbert_cw_prob'][i] = item['score']\n",
    "            new_qdf['distillbert_cw_accuracy'][i] = 1\n"
   ]
  },
  {
   "cell_type": "markdown",
   "metadata": {},
   "source": [
    "## presupposition"
   ]
  },
  {
   "cell_type": "code",
   "execution_count": null,
   "metadata": {},
   "outputs": [],
   "source": [
    "df = pd.read_csv('data', index_col=0)\n",
    "df.head()"
   ]
  },
  {
   "cell_type": "code",
   "execution_count": null,
   "metadata": {},
   "outputs": [],
   "source": [
    "df['distillbert_cw_prob'] = ''\n",
    "df['distillbert_top1'] = ''\n",
    "df['distillbert_top1_prob'] = ''\n",
    "df['distillbert_cw_accuracy'] = 0\n",
    "\n",
    "unmasker = pipeline('fill-mask', model='distilbert-base-uncased')\n",
    "\n",
    "for i in df.index:\n",
    "    seq = df['pre_cw'][i] + \" [MASK] \" + df['post_cw'][i] + ' ' + df['post_cw_trigger'][i]\n",
    "    temp = unmasker(seq)\n",
    "    df['distillbert_top1'][i] = temp[0]['token_str']\n",
    "    df['distillbert_top1_prob'][i] = temp[0]['score']\n",
    "\n",
    "    for item in temp:\n",
    "        if item['token_str'] == df['cw'][i]:\n",
    "            df['distillbert_cw_prob'][i] = item['score']\n",
    "            df['distillbert_cw_accuracy'][i] = 1"
   ]
  },
  {
   "cell_type": "markdown",
   "metadata": {},
   "source": [
    "# Fine-tuned distill-bert"
   ]
  },
  {
   "cell_type": "markdown",
   "metadata": {},
   "source": [
    "## quantifier"
   ]
  },
  {
   "cell_type": "markdown",
   "metadata": {},
   "source": [
    "### playground"
   ]
  },
  {
   "cell_type": "code",
   "execution_count": null,
   "metadata": {},
   "outputs": [],
   "source": [
    "unmasker = pipeline('fill-mask', model='distilbert-base-uncased-finetuned-quantifier')\n",
    "unmasker(\"[MASK] people have lungs that are diseased by viruses.\")"
   ]
  },
  {
   "cell_type": "code",
   "execution_count": null,
   "metadata": {},
   "outputs": [],
   "source": [
    "unmasker = pipeline('fill-mask', model='distilbert-base-uncased-finetuned-quantifier')\n",
    "unmasker(\"Some people have [MASK] that are diseased by viruses.\")"
   ]
  },
  {
   "cell_type": "code",
   "execution_count": null,
   "metadata": {},
   "outputs": [],
   "source": [
    "unmasker = pipeline('fill-mask', model='distilbert-base-uncased-finetuned-quantifier')\n",
    "unmasker(\"[MASK] people have lungs which require good care.\")"
   ]
  },
  {
   "cell_type": "markdown",
   "metadata": {},
   "source": [
    "### finetuned distill-bert on new SI dataset"
   ]
  },
  {
   "cell_type": "code",
   "execution_count": null,
   "metadata": {},
   "outputs": [],
   "source": [
    "from transformers import AutoTokenizer\n",
    "from transformers import AutoModelForMaskedLM\n",
    "\n",
    "model_checkpoint = \"distilbert-base-uncased-finetuned-quantifier\"\n",
    "model = AutoModelForMaskedLM.from_pretrained(model_checkpoint)\n",
    "\n",
    "tokenizer = AutoTokenizer.from_pretrained(model_checkpoint)\n",
    "tokenizer.save_pretrained('distilbert-base-uncased-finetuned-quantifier')\n",
    "\n",
    "distilbert_num_parameters = model.num_parameters() / 1_000_000\n",
    "print(f\"'>>> DistilBERT number of parameters: {round(distilbert_num_parameters)}M'\")\n",
    "print(f\"'>>> BERT number of parameters: 110M'\")"
   ]
  },
  {
   "cell_type": "code",
   "execution_count": null,
   "metadata": {},
   "outputs": [],
   "source": [
    "new_qdf['ft_distillbert_cw_prob'] = ''\n",
    "new_qdf['ft_distillbert_top1'] = ''\n",
    "new_qdf['ft_distillbert_top1_prob'] = ''\n",
    "new_qdf['ft_distillbert_accuracy'] = 0\n",
    "\n",
    "unmasker = pipeline('fill-mask', model='distilbert-base-uncased-finetuned-quantifier')\n",
    "\n",
    "for i in new_qdf.index:\n",
    "    seq = \"[MASK] \" + new_qdf['post_cw'][i]\n",
    "    temp = unmasker(seq)\n",
    "    new_qdf['ft_distillbert_top1'][i] = temp[0]['token_str']\n",
    "    new_qdf['ft_distillbert_top1_prob'][i] = temp[0]['score']\n",
    "\n",
    "    for item in temp:\n",
    "        if item['token_str'] == new_qdf['cw'][i]:\n",
    "            new_qdf['ft_distillbert_cw_prob'][i] = item['score']\n",
    "            new_qdf['ft_distillbert_accuracy'][i] = 1"
   ]
  },
  {
   "cell_type": "markdown",
   "metadata": {},
   "source": [
    "## presupposition"
   ]
  },
  {
   "cell_type": "code",
   "execution_count": null,
   "metadata": {},
   "outputs": [],
   "source": [
    "from huggingface_hub import notebook_login\n",
    "\n",
    "notebook_login()"
   ]
  },
  {
   "cell_type": "code",
   "execution_count": null,
   "metadata": {},
   "outputs": [],
   "source": [
    "use_auth_token=True"
   ]
  },
  {
   "cell_type": "code",
   "execution_count": null,
   "metadata": {},
   "outputs": [],
   "source": [
    "from transformers import AutoTokenizer\n",
    "from transformers import AutoModelForMaskedLM\n",
    "\n",
    "model_checkpoint = \"distilbert-base-uncased-finetuned-existence\"\n",
    "model = AutoModelForMaskedLM.from_pretrained(model_checkpoint)\n",
    "\n",
    "tokenizer = AutoTokenizer.from_pretrained(model_checkpoint)\n",
    "tokenizer.save_pretrained('distilbert-base-uncased-finetuned-existence')\n",
    "\n",
    "distilbert_num_parameters = model.num_parameters() / 1_000_000\n",
    "print(f\"'>>> DistilBERT number of parameters: {round(distilbert_num_parameters)}M'\")\n",
    "print(f\"'>>> BERT number of parameters: 110M'\")"
   ]
  },
  {
   "cell_type": "code",
   "execution_count": null,
   "metadata": {},
   "outputs": [],
   "source": [
    "unmasker = pipeline('fill-mask', model='distilbert-base-uncased-finetuned-existence')\n",
    "unmasker(\"[MASK] people have lungs which require good care.\")"
   ]
  },
  {
   "cell_type": "code",
   "execution_count": null,
   "metadata": {},
   "outputs": [],
   "source": [
    "df['ft_distillbert_cw_prob'] = ''\n",
    "df['ft_distillbert_top1'] = ''\n",
    "df['ft_distillbert_top1_prob'] = ''\n",
    "df['ft_distillbert_accuracy'] = 0\n",
    "\n",
    "unmasker = pipeline('fill-mask', model='distilbert-base-uncased-finetuned-existence')\n",
    "\n",
    "for i in df.index:\n",
    "    seq = df['pre_cw'][i] + \" [MASK] \" + df['post_cw'][i] + ' ' + df['post_cw_trigger'][i]\n",
    "    temp = unmasker(seq)\n",
    "    df['ft_distillbert_top1'][i] = temp[0]['token_str']\n",
    "    df['ft_distillbert_top1_prob'][i] = temp[0]['score']\n",
    "\n",
    "    for item in temp:\n",
    "        if item['token_str'] == df['cw'][i]:\n",
    "            df['ft_distillbert_cw_prob'][i] = item['score']\n",
    "            df['ft_distillbert_accuracy'][i] = 1 # this is wrong, should be if bad, then 0; if good, then 1"
   ]
  }
 ],
 "metadata": {
  "interpreter": {
   "hash": "c9bbc2a1c928760b171406dd0b75aa2bc786a11b1c33c4ac331981aff1f6a975"
  },
  "kernelspec": {
   "display_name": "Python 3.9.7 ('nlum1')",
   "language": "python",
   "name": "python3"
  },
  "language_info": {
   "codemirror_mode": {
    "name": "ipython",
    "version": 3
   },
   "file_extension": ".py",
   "mimetype": "text/x-python",
   "name": "python",
   "nbconvert_exporter": "python",
   "pygments_lexer": "ipython3",
   "version": "3.8.8"
  },
  "orig_nbformat": 4
 },
 "nbformat": 4,
 "nbformat_minor": 2
}
